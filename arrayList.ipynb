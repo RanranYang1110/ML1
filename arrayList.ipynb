{
 "cells": [
  {
   "cell_type": "code",
   "execution_count": 1,
   "metadata": {
    "collapsed": true
   },
   "outputs": [],
   "source": [
    "import numpy as np\n",
    "import pandas as pd\n",
    "import ctypes\n",
    "class ArrayList:\n",
    "    def __init__(self):\n",
    "        self._n = 0\n",
    "        self._capacity = 10\n",
    "        self._A = self._make_array(self._capacity)\n",
    "    def __len__(self):\n",
    "        return self._n\n",
    "    \n",
    "    def is_empty(self):\n",
    "        return self._n == 0\n",
    "    \n",
    "    \n",
    "    def __getitem__(self, item):\n",
    "        if not 0 <= item < self._n:\n",
    "            raise ValueError('invalid index')\n",
    "        return self._A[item]\n",
    "    def append(self, obj):\n",
    "        if self._n == self._capacity:\n",
    "            self._resize(2 * self._capacity)\n",
    "        self._A[self._n] = obj\n",
    "        self._n += 1\n",
    "        "
   ]
  },
  {
   "cell_type": "code",
   "execution_count": null,
   "metadata": {},
   "outputs": [],
   "source": []
  }
 ],
 "metadata": {
  "kernelspec": {
   "display_name": "Python 2",
   "language": "python",
   "name": "python2"
  },
  "language_info": {
   "codemirror_mode": {
    "name": "ipython",
    "version": 2
   },
   "file_extension": ".py",
   "mimetype": "text/x-python",
   "name": "python",
   "nbconvert_exporter": "python",
   "pygments_lexer": "ipython2",
   "version": "2.7.6"
  }
 },
 "nbformat": 4,
 "nbformat_minor": 0
}
