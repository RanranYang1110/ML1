{
 "cells": [
  {
   "cell_type": "code",
   "execution_count": null,
   "metadata": {},
   "outputs": [],
   "source": [
    "#-*- coding:utf-8 -*-\n",
    "# @author: qianli\n",
    "# @file: logistic_regression_diy.py\n",
    "# @time: 2019/03/20\n",
    "import numpy as np\n",
    "def likelihood_sub(x, y, beta):\n",
    "    '''\n",
    "    @param x: one sample variables\n",
    "    @param y: one sample labels\n",
    "    @param beta: the parameter vector in 3.27\n",
    "    @return: the sub_log-likelihood of 3.27\n",
    "    '''\n",
    "    return -y * np.dot(beta, x.T) + np.math.log(1+np.math.exp(np.dot(beta, x.T)))\n",
    "\n",
    "def likelihood(X, y, beta):\n",
    "    '''\n",
    "    @:param X: the sample variables matrix\n",
    "    @:param y: the sample label matrix\n",
    "    @:param beta: the parameter vector in 3.27\n",
    "    @:return: the log-likelihood of 3.27\n",
    "    '''\n",
    "    sum = 0\n",
    "    m, n = np.shape(X)\n",
    "    for i in range(m):\n",
    "        sum += likelihood(X[i],y[i], beta)\n",
    "    return sum"
   ]
  }
 ],
 "metadata": {
  "language": "python"
 },
 "nbformat": 4,
 "nbformat_minor": 2
}
